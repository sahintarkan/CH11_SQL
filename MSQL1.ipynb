{
  "nbformat": 4,
  "nbformat_minor": 0,
  "metadata": {
    "colab": {
      "name": "MSQL1.ipynb",
      "provenance": [],
      "authorship_tag": "ABX9TyNIYcHIW6JT8FUQ5S5IkEKx",
      "include_colab_link": true
    },
    "kernelspec": {
      "name": "python3",
      "display_name": "Python 3"
    },
    "language_info": {
      "name": "python"
    }
  },
  "cells": [
    {
      "cell_type": "markdown",
      "metadata": {
        "id": "view-in-github",
        "colab_type": "text"
      },
      "source": [
        "<a href=\"https://colab.research.google.com/github/sahintarkan/CH11_SQL/blob/master/MSQL1.ipynb\" target=\"_parent\"><img src=\"https://colab.research.google.com/assets/colab-badge.svg\" alt=\"Open In Colab\"/></a>"
      ]
    },
    {
      "cell_type": "code",
      "execution_count": null,
      "metadata": {
        "id": "hssvzOcjD5FV"
      },
      "outputs": [],
      "source": [
        "###\n"
      ]
    },
    {
      "cell_type": "markdown",
      "source": [
        "REATE DATABASE LibDatabase\n",
        "\n",
        "Use LibDatabase;\n",
        "\n",
        "--Create Two Schemas\n",
        "CREATE SCHEMA Book;\n",
        "---\n",
        "CREATE SCHEMA Person;\n",
        "\n",
        "CREATE TABLE [Book].[Book](\n",
        "\t[Book_ID] [int] PRIMARY KEY NOT NULL,\n",
        "\t[Book_Name] [nvarchar](50) NOT NULL,\n",
        "\tAuthor_ID INT NOT NULL,\n",
        "\tPublisher_ID INT NOT NULL\n",
        "\t);\n",
        "\n",
        "\tCREATE TABLE [Book].[Author](\n",
        "\t[Author_ID] [int],\n",
        "\t[Author_FirstName] [nvarchar](50) Not NULL,\n",
        "\t[Author_LastName] [nvarchar](50) Not NULL\n",
        "\t);\n",
        "\n",
        "\tCREATE TABLE [Book].[Publisher](\n",
        "\t[Publisher_ID] [int] PRIMARY KEY IDENTITY(1,1) NOT NULL,\n",
        "\t[Publisher_Name] [nvarchar](100) NULL\n",
        "\t);\n",
        "\n",
        "\tCREATE TABLE [Person].[Person](\n",
        "\t[SSN] [bigint] PRIMARY KEY NOT NULL,\n",
        "\t[Person_FirstName] [nvarchar](50) NULL,\n",
        "\t[Person_LastName] [nvarchar](50) NULL\n",
        "\t);\n",
        "\n",
        "\tCREATE TABLE [Person].[Loan](\n",
        "\t[SSN] BIGINT NOT NULL,\n",
        "\t[Book_ID] INT NOT NULL,\n",
        "\tPRIMARY KEY ([SSN], [Book_ID])\n",
        "\t);\n",
        "\n",
        "CREATE TABLE [Person].[Person_Phone](\n",
        "\t[Phone_Number] [bigint] PRIMARY KEY NOT NULL,\n",
        "\t[SSN] [bigint] NOT NULL\t\n",
        "\t);\n",
        "\n",
        "\tCREATE TABLE [Person].[Person_Mail](\n",
        "\t[Mail_ID] INT PRIMARY KEY IDENTITY (1,1),\n",
        "\t[Mail] NVARCHAR(MAX) NOT NULL,\n",
        "\t[SSN] BIGINT UNIQUE NOT NULL\t/*bir kisinin bir maili olur demek yani b u tabloda bir defa gecer biris demek*/\n",
        "\t);"
      ],
      "metadata": {
        "id": "1RX9gzANET_G"
      }
    }
  ]
}